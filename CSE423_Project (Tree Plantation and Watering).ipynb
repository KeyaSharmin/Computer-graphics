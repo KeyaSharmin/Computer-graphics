{
  "nbformat": 4,
  "nbformat_minor": 0,
  "metadata": {
    "colab": {
      "provenance": [],
      "collapsed_sections": [
        "Q9yRGl2hF2j2",
        "lhGlOIamFPzW"
      ],
      "include_colab_link": true
    },
    "kernelspec": {
      "name": "python3",
      "display_name": "Python 3"
    },
    "language_info": {
      "name": "python"
    },
    "accelerator": "GPU",
    "gpuClass": "standard"
  },
  "cells": [
    {
      "cell_type": "markdown",
      "metadata": {
        "id": "view-in-github",
        "colab_type": "text"
      },
      "source": [
        "<a href=\"https://colab.research.google.com/github/KeyaSharmin/Computer-graphics/blob/main/CSE423_Project%20(Tree%20Plantation%20and%20Watering).ipynb\" target=\"_parent\"><img src=\"https://colab.research.google.com/assets/colab-badge.svg\" alt=\"Open In Colab\"/></a>"
      ]
    },
    {
      "cell_type": "markdown",
      "source": [
        "# Libraries Installing and window setup"
      ],
      "metadata": {
        "id": "Q9yRGl2hF2j2"
      }
    },
    {
      "cell_type": "code",
      "source": [
        "!pip install -q lucid>=0.2.3"
      ],
      "metadata": {
        "id": "L3y0yGFYiWRI"
      },
      "execution_count": null,
      "outputs": []
    },
    {
      "cell_type": "code",
      "source": [
        "import numpy as np\n",
        "import math\n",
        "\n",
        "import ctypes.util\n",
        "from lucid.misc.gl.glcontext import create_opengl_context\n",
        "\n",
        "# Now it's safe to import OpenGL and EGL functions\n",
        "import OpenGL.GL as gl\n",
        "from OpenGL.GLU import *\n",
        "\n",
        "# create_opengl_context() creates GL context that is attached to an\n",
        "# offscreen surface of specified size. Note that rendering to buffers\n",
        "# of different size and format is still possible with OpenGL Framebuffers.\n",
        "#\n",
        "# Users are expected to directly use EGL calls in case more advanced\n",
        "# context management is required.\n",
        "WIDTH, HEIGHT = 1000,1000\n",
        "create_opengl_context((WIDTH, HEIGHT))\n",
        "\n",
        "def addVertex(x,y):\n",
        "    gl.glVertex2f(((2*x)/WIDTH),((2*y)/HEIGHT))\n",
        "\n",
        "# OpenGL context is available here.\n",
        "\n",
        "print(gl.glGetString(gl.GL_VERSION))\n",
        "print(gl.glGetString(gl.GL_VENDOR))\n",
        "#print(gl.glGetString(gl.GL_EXTENSIONS))"
      ],
      "metadata": {
        "id": "-dC6f5NBXcNu",
        "colab": {
          "base_uri": "https://localhost:8080/"
        },
        "outputId": "52df9f01-91fc-4675-ef23-771a6c39226a"
      },
      "execution_count": null,
      "outputs": [
        {
          "output_type": "stream",
          "name": "stdout",
          "text": [
            "b'4.6.0 NVIDIA 460.32.03'\n",
            "b'NVIDIA Corporation'\n"
          ]
        }
      ]
    },
    {
      "cell_type": "markdown",
      "source": [
        "# Line Drawing Algorithm\n",
        "(8 way symmetry)"
      ],
      "metadata": {
        "id": "NHX1iwJrEkwG"
      }
    },
    {
      "cell_type": "code",
      "source": [
        "def find_zone(x1,y1, x2, y2):\n",
        "  dx = x2-x1\n",
        "  dy = y2-y1\n",
        "  if abs(dx)>=abs(dy):\n",
        "    if dx>=0 and dy>=0:\n",
        "      return 0 #zone 0\n",
        "    elif dx>=0 and dy<0:\n",
        "      return 7 #zone 7\n",
        "    elif dx<0 and dy>=0:\n",
        "      return 3 #zone 3\n",
        "    else:\n",
        "      return 4\n",
        "  else:\n",
        "    if dx>=0 and dy>=0:\n",
        "      return 1 #zone 1\n",
        "    elif dx>=0 and dy<0:\n",
        "      return 6 #zone 7\n",
        "    elif dx<0 and dy>=0:\n",
        "      return 2 #zone 3\n",
        "    else:\n",
        "      return 5"
      ],
      "metadata": {
        "id": "5Obs_9LCqvOJ"
      },
      "execution_count": null,
      "outputs": []
    },
    {
      "cell_type": "code",
      "source": [
        "def convert_zone_to_z0(z, x, y):\n",
        "  if z==1:\n",
        "    return y,x\n",
        "  elif z==2:\n",
        "    return y,-x\n",
        "  elif z==3:\n",
        "    return -x,y\n",
        "  elif z==4:\n",
        "    return -x,-y\n",
        "  elif z==5:\n",
        "    return -y,-x\n",
        "  elif z==6:\n",
        "    return -y,x\n",
        "  elif z==7:\n",
        "    return x,-y"
      ],
      "metadata": {
        "id": "m7CMDxDF2iHR"
      },
      "execution_count": null,
      "outputs": []
    },
    {
      "cell_type": "code",
      "source": [
        "def convert_zone_from_z0(z, x, y):\n",
        "  if z==1:\n",
        "    return y,x\n",
        "  elif z==2:\n",
        "    return -y,x\n",
        "  elif z==3:\n",
        "    return -x,y\n",
        "  elif z==4:\n",
        "    return -x,-y\n",
        "  elif z==5:\n",
        "    return -y,-x\n",
        "  elif z==6:\n",
        "    return y,-x\n",
        "  elif z==7:\n",
        "    return x,-y"
      ],
      "metadata": {
        "id": "a_odlhhX8_Jf"
      },
      "execution_count": null,
      "outputs": []
    },
    {
      "cell_type": "code",
      "source": [
        "def draw_line(x1, y1, x2, y2):\n",
        "  zone = find_zone(x1,y1, x2, y2)\n",
        "  if zone != 0:\n",
        "    x1, y1 = convert_zone_to_z0(zone, x1, y1)\n",
        "    x2, y2 = convert_zone_to_z0(zone, x2, y2)\n",
        "  dy = y2 - y1\n",
        "  dx = x2 - x1\n",
        "  d = 2*dy - dx\n",
        "  incE = 2 * dy\n",
        "  incNE = 2 * (dy - dx)\n",
        "  x, y = (x1, y1)\n",
        "\n",
        "  #point = []\n",
        "\n",
        "  for x in range(x1, x2+1):\n",
        "    if zone == 0:\n",
        "        x_0, y_0 = (x, y)\n",
        "    else:\n",
        "        x_0, y_0 = convert_zone_from_z0(zone, x, y)\n",
        "    #point.append((x_0,y_0))\n",
        "    gl.glVertex2f((x_0 - 500)/500, (y_0 - 500)/500)\n",
        "    #gl.glVertex2f(((2*x)/WIDTH),((2*y)/HEIGHT))\n",
        "    x += 1\n",
        "    if d>0:\n",
        "        d = d + incNE\n",
        "        y = y + 1\n",
        "    else:\n",
        "        d = d + incE\n",
        "  #return point\n",
        "def draw_Lines(x1, y1, x2, y2):\n",
        "    gl.glBegin(gl.GL_LINES)\n",
        "    addVertex(x1, y1)\n",
        "    addVertex(x2, y2)\n",
        "    gl.glEnd()"
      ],
      "metadata": {
        "id": "zlzqzjpK4Gm7"
      },
      "execution_count": null,
      "outputs": []
    },
    {
      "cell_type": "markdown",
      "source": [
        "# Mid point circle drawing Algorithm"
      ],
      "metadata": {
        "id": "lhGlOIamFPzW"
      }
    },
    {
      "cell_type": "code",
      "source": [
        "def convert_from_z1(points_z1,z):\n",
        "  points = []\n",
        "  if z==0:\n",
        "    for x, y in points_z1:\n",
        "      points.append((y,x))\n",
        "  elif z==3:\n",
        "    for x, y in points_z1:\n",
        "      points.append((-y,x))\n",
        "  elif z==2:\n",
        "    for x, y in points_z1:\n",
        "      points.append((-x,y))\n",
        "  elif z==5:\n",
        "    for x, y in points_z1:\n",
        "      points.append((-x,-y))\n",
        "  elif z==4:\n",
        "    for x, y in points_z1:\n",
        "      points.append((-y,-x))\n",
        "  elif z==7:\n",
        "    for x, y in points_z1:\n",
        "      points.append((y,-x))\n",
        "  elif z==6:\n",
        "    for x, y in points_z1:\n",
        "      points.append((x,-y))\n",
        "  return points"
      ],
      "metadata": {
        "id": "tMmsc14ZFNgC"
      },
      "execution_count": null,
      "outputs": []
    },
    {
      "cell_type": "code",
      "source": [
        "def draw_circle(r, x, y):\n",
        "  d = 1 - r\n",
        "  x0 = 0\n",
        "  y0 = r\n",
        "  points_z1 = [(x0,y0)]\n",
        "  while x0 < y0 :\n",
        "    if d<0 :\n",
        "      d = d + 2*x0 + 3 #choose E\n",
        "      x0 += 1\n",
        "    else:\n",
        "      d = d + 2*x0 - 2*y0 + 5 #choose SE\n",
        "      x0 += 1\n",
        "      y0 -= 1\n",
        "    points_z1.append((x0,y0))\n",
        "\n",
        "  #zones_convert\n",
        "  points = points_z1.copy()\n",
        "  for z in [0,2,3,4,5,6,7]:\n",
        "    points += convert_from_z1(points_z1, z)\n",
        "\n",
        "  #return points\n",
        "  #plot\n",
        "  for i in range(len(points)):\n",
        "    point_x = (points[i][0] + x)/400\n",
        "    point_y = (points[i][1] + y)/400\n",
        "    points[i] = (point_x, point_y)\n",
        "    #gl.glVertex2f(points[i][0], points[i][1])\n",
        "  return points"
      ],
      "metadata": {
        "id": "vyLUoZMtFNtE"
      },
      "execution_count": null,
      "outputs": []
    },
    {
      "cell_type": "markdown",
      "source": [
        "# Transformations"
      ],
      "metadata": {
        "id": "R_MfTnOzCE_d"
      }
    },
    {
      "cell_type": "code",
      "source": [
        "def rotate(theta):\n",
        "  a = math.cos(math.radians(theta))\n",
        "  b = math.sin(math.radians(theta))\n",
        "\n",
        "  r = np.array([[a, -b, 0],\n",
        "              [b, a, 0],\n",
        "              [0, 0, 1]])\n",
        "  return r"
      ],
      "metadata": {
        "id": "UaApKsTkA5Z3"
      },
      "execution_count": null,
      "outputs": []
    },
    {
      "cell_type": "code",
      "source": [
        "def scale(sc):\n",
        "  s = np.array([[sc, 0, 0],\n",
        "            [0, sc, 0],\n",
        "            [0, 0, 1]])\n",
        "  return s"
      ],
      "metadata": {
        "id": "4UALjkCPT_Bc"
      },
      "execution_count": null,
      "outputs": []
    },
    {
      "cell_type": "code",
      "source": [
        "def translation(x, y):\n",
        "  t = np.array([[1, 0, x],\n",
        "            [0, 1, y],\n",
        "            [0, 0, 1]])\n",
        "  return t"
      ],
      "metadata": {
        "id": "iGHuFt3MT_Ez"
      },
      "execution_count": null,
      "outputs": []
    },
    {
      "cell_type": "code",
      "source": [
        "def transformation(arr, *argv):\n",
        "  new_arr = []\n",
        "  m = np.array([[1, 0, 0],\n",
        "            [0, 1, 0],\n",
        "            [0, 0, 1]])\n",
        "  for arg in argv:\n",
        "    m = np.matmul(arg,m)\n",
        "\n",
        "  for x,y in arr:\n",
        "    pt = np.array([[x],\n",
        "              [y],\n",
        "              [1]])\n",
        "    pt = np.matmul(m,pt)\n",
        "    new_arr.append((pt[0][0], pt[1][0]))\n",
        "  return new_arr"
      ],
      "metadata": {
        "id": "LLRRKy--T_Ir"
      },
      "execution_count": null,
      "outputs": []
    },
    {
      "cell_type": "markdown",
      "source": [
        "# Drawing part"
      ],
      "metadata": {
        "id": "azcmNdieFtKB"
      }
    },
    {
      "cell_type": "code",
      "source": [
        "water_pot = [(-0.1,0.1),(0.15, 0.1),(0.15, -0.1),(-0.1, -0.1),(-0.1,-0.04),(-0.22,0.08),(-0.2,0.1),(-0.1,0.04),(-0.1,0.1)]"
      ],
      "metadata": {
        "id": "Uy-O8C7eiyM4"
      },
      "execution_count": null,
      "outputs": []
    },
    {
      "cell_type": "code",
      "source": [
        "#small plant\n",
        "small_stem = [(-0.03,0),(0,0.15),(0.03,0),(-0.03,0)]\n",
        "leaf = [(0,0.07),(0.08,0.18),(0,0.3),(-0.08,0.18),(0,0.07)]"
      ],
      "metadata": {
        "id": "gC7OGBr_pA8e"
      },
      "execution_count": null,
      "outputs": []
    },
    {
      "cell_type": "code",
      "source": [
        "#big plant\n",
        "big_tree = [(-0.24,0.25),(0.24,0.25),(0.144,0.4),(-0.144,0.4),(-0.2,0.4),(0.2,0.4),(0.096,0.55),(-0.096,0.55),(-0.152,0.55),(0,0.75),(0.152,0.55),(0.096,0.55)]\n",
        "trunk = [(-0.05,0),(-0.05, 0.25),(0.05,0.25),(0.05,0)]"
      ],
      "metadata": {
        "id": "qxo-21y8ffx2"
      },
      "execution_count": null,
      "outputs": []
    },
    {
      "cell_type": "code",
      "source": [
        "#circle points\n",
        "circle = draw_circle(100,0,0)"
      ],
      "metadata": {
        "id": "bg-og1iIOOxr"
      },
      "execution_count": null,
      "outputs": []
    },
    {
      "cell_type": "code",
      "source": [
        "def draw_House():\n",
        "    gl.glBegin(gl.GL_POINTS)\n",
        "    #house\n",
        "    gl.glColor3f(0.30,0.15,0.00)\n",
        "    draw_line(800,600,900,600)\n",
        "    draw_line(800,500,900,500)\n",
        "    draw_line(800,600,800,500)\n",
        "    draw_line(900,600,900,500)\n",
        "    #roof\n",
        "    draw_line(800,600,850,660)\n",
        "    draw_line(850,660,900,600)\n",
        "    #door\n",
        "    draw_line(840,500,840,580)\n",
        "    draw_line(840,580,860,580)\n",
        "    draw_line(860,580,860,500)\n",
        "\n",
        "    gl.glEnd()\n",
        "\n",
        "def road():\n",
        "    gl.glBegin(gl.GL_POINTS)\n",
        "    gl.glColor3f(0.30,0.15,0.00)\n",
        "    draw_line(550,600,900,0)\n",
        "    draw_line(640,600,1000,100)\n",
        "    gl.glEnd()\n",
        "\n",
        "plot_of_land = [(0,0),(-350,0),(-460,-270),(250,-270)]"
      ],
      "metadata": {
        "id": "v6AFGL-23T4a"
      },
      "execution_count": null,
      "outputs": []
    },
    {
      "cell_type": "code",
      "source": [
        "\n",
        "# Let's render something!\n",
        "gl.glClear(gl.GL_COLOR_BUFFER_BIT)\n",
        "gl.glPointSize(5)\n",
        "\n",
        "#sky\n",
        "gl.glColor3f(0.82,0.96,1.00)\n",
        "for i in range(-500,501,1):\n",
        "  draw_Lines(i,500,i,-500)\n",
        "\n",
        "#sun\n",
        "gl.glColor3f(1.00,0.85,0.10)\n",
        "gl.glPointSize(5) #size of point\n",
        "sun_1 = transformation(circle, scale(0.5), translation(-0.5,0.7))\n",
        "gl.glBegin(gl.GL_POINTS)\n",
        "for a,b in sun_1:\n",
        "  gl.glVertex2f(a,b)\n",
        "gl.glEnd()\n",
        "\n",
        "#land space\n",
        "gl.glColor3f(0.84,0.63,0.31)\n",
        "for i in range(-500,501,1):\n",
        "  draw_Lines(i,100,i,-500)\n",
        "\n",
        "#house and road using mid point line algo\n",
        "draw_House()\n",
        "road()\n",
        "\n",
        "#Plot of land for gardening\n",
        "gl.glColor3f(0.84,1,0.33)\n",
        "for i in range(-350,0,1):\n",
        "  draw_Lines(i,0,i-110,-270)\n",
        "for i in range(250,-110,-1):\n",
        "  draw_Lines(0,0,i-110,-270)"
      ],
      "metadata": {
        "id": "ANi7Wf-hbL9Y"
      },
      "execution_count": null,
      "outputs": []
    },
    {
      "cell_type": "code",
      "source": [
        "from IPython.display import display\n",
        "from PIL import Image\n",
        "\n",
        "img_buf = gl.glReadPixelsub(0, 0, WIDTH, HEIGHT, gl.GL_RGB, gl.GL_UNSIGNED_BYTE)\n",
        "img = np.frombuffer(img_buf,np.uint8).reshape(HEIGHT, WIDTH, 3)[::-1]\n",
        "display(Image.fromarray(img,'RGB'))"
      ],
      "metadata": {
        "id": "e6JCjyDMyE75",
        "colab": {
          "base_uri": "https://localhost:8080/",
          "height": 1000
        },
        "outputId": "d5de7551-7bbb-443a-b863-b581197498cd"
      },
      "execution_count": null,
      "outputs": [
        {
          "output_type": "display_data",
          "data": {
            "text/plain": [
              "<PIL.Image.Image image mode=RGB size=1000x1000 at 0x7FDD84AAB670>"
            ],
            "image/png": "[encoded data removed]"
          },
          "metadata": {}
        }
      ]
    },
    {
      "cell_type": "code",
      "source": [
        "n = int(input(\"Enter the number of plant (0-6): \"))\n",
        "if n>6:\n",
        "    n=6\n",
        "spots = [(-0.6,-0.2), (-0.34, -0.2),(-0.1,-0.2),(-0.7,-0.54),(-0.3,-0.54),(0.1,-0.54)]"
      ],
      "metadata": {
        "id": "aTE0DYLaVPo8",
        "colab": {
          "base_uri": "https://localhost:8080/"
        },
        "outputId": "447f578c-5d8f-4fa9-851c-16a84ff34323"
      },
      "execution_count": null,
      "outputs": [
        {
          "name": "stdout",
          "output_type": "stream",
          "text": [
            "Enter the number of plant (0-6): 6\n"
          ]
        }
      ]
    },
    {
      "cell_type": "code",
      "source": [
        "def small_plant(a,b,sc):\n",
        "  gl.glColor3f(0.07,0.79,0)\n",
        "  gl.glBegin(gl.GL_QUADS)\n",
        "  leaf_1 = transformation(leaf, scale(sc), translation(a,b))\n",
        "  for a,b in leaf_1:\n",
        "    gl.glVertex2f(a,b)\n",
        "  gl.glEnd()\n",
        "\n",
        "  gl.glColor3f(0.55,0.27,0.07)\n",
        "  gl.glBegin(gl.GL_QUADS)\n",
        "  small_stem_1 = transformation(small_stem, scale(sc), translation(a,b))\n",
        "  for a,b in small_stem_1:\n",
        "    gl.glVertex2f(a,b)\n",
        "  gl.glEnd()"
      ],
      "metadata": {
        "id": "FlZzlDzKM77V"
      },
      "execution_count": null,
      "outputs": []
    },
    {
      "cell_type": "code",
      "source": [
        "gl.glClear(gl.GL_COLOR_BUFFER_BIT)\n",
        "gl.glPointSize(5)\n",
        "\n",
        "#sky\n",
        "gl.glColor3f(0.82,0.96,1.00)\n",
        "for i in range(-500,500,1):\n",
        "  draw_Lines(i,500,i,-500)\n",
        "\n",
        "#sun\n",
        "gl.glColor3f(1.00,0.67,0.00)\n",
        "gl.glPointSize(5) #size of point\n",
        "sun_2 = transformation(circle, scale(0.5), translation(-0.2,0.5))\n",
        "gl.glBegin(gl.GL_POINTS)\n",
        "for a,b in sun_2:\n",
        "  gl.glVertex2f(a,b)\n",
        "gl.glEnd()\n",
        "\n",
        "#land space\n",
        "gl.glColor3f(0.84,0.63,0.31)\n",
        "for i in range(-500,501,1):\n",
        "  draw_Lines(i,100,i,-500)\n",
        "\n",
        "\n",
        "#Plot of land for gardening\n",
        "gl.glColor3f(0.84,1,0.33)\n",
        "for i in range(-350,0,1):\n",
        "  draw_Lines(i,0,i-110,-270)\n",
        "for i in range(250,-110,-1):\n",
        "  draw_Lines(0,0,i-110,-270)\n",
        "\n",
        "draw_House()\n",
        "road()\n",
        "\n",
        "\n",
        "spots_1 = spots[:n]\n",
        "i = 0\n",
        "for a,b in spots_1:\n",
        "  if i<3:\n",
        "    small_plant(a,b,1)\n",
        "  else:\n",
        "    small_plant(a,b,1.2)\n",
        "  i += 1"
      ],
      "metadata": {
        "id": "_pc1mwuTVtQT"
      },
      "execution_count": null,
      "outputs": []
    },
    {
      "cell_type": "code",
      "source": [
        "from IPython.display import display\n",
        "from PIL import Image\n",
        "\n",
        "img_buf = gl.glReadPixelsub(0, 0, WIDTH, HEIGHT, gl.GL_RGB, gl.GL_UNSIGNED_BYTE)\n",
        "img = np.frombuffer(img_buf,np.uint8).reshape(HEIGHT, WIDTH, 3)[::-1]\n",
        "display(Image.fromarray(img,'RGB'))"
      ],
      "metadata": {
        "id": "GOfuzYjPWG7b",
        "colab": {
          "base_uri": "https://localhost:8080/",
          "height": 1000
        },
        "outputId": "5efc47a1-af0d-4803-b2cf-4b792c826a72"
      },
      "execution_count": null,
      "outputs": [
        {
          "output_type": "display_data",
          "data": {
            "text/plain": [
              "<PIL.Image.Image image mode=RGB size=1000x1000 at 0x7FDD904B0550>"
            ],
            "image/png": "[encoded data removed]"
          },
          "metadata": {}
        }
      ]
    },
    {
      "cell_type": "code",
      "source": [
        "water = input(\"Pick which plants to water (e.g.0110 if we planted 4 plants):\")"
      ],
      "metadata": {
        "id": "e7upVNP_mCcd",
        "colab": {
          "base_uri": "https://localhost:8080/"
        },
        "outputId": "e585b3b3-937b-4676-c60a-9b4e763e0e40"
      },
      "execution_count": null,
      "outputs": [
        {
          "name": "stdout",
          "output_type": "stream",
          "text": [
            "Pick which plants to water (e.g.0110 if we planted 4 plants):110101\n"
          ]
        }
      ]
    },
    {
      "cell_type": "code",
      "source": [
        "i=0\n",
        "for a,b in spots_1:\n",
        "    if water[i] == \"1\":\n",
        "        gl.glColor3f(0,0,1.0)\n",
        "        gl.glBegin(gl.GL_QUADS)\n",
        "        water_pot_1 = transformation(water_pot, scale(0.4), rotate(20), translation(a+0.1,b+0.08))\n",
        "        for v,t in water_pot_1:\n",
        "            gl.glVertex2f(v,t)\n",
        "        gl.glEnd()\n",
        "    i += 1"
      ],
      "metadata": {
        "id": "WLIcRBJqw0ad"
      },
      "execution_count": null,
      "outputs": []
    },
    {
      "cell_type": "code",
      "source": [
        "from IPython.display import display\n",
        "from PIL import Image\n",
        "\n",
        "img_buf = gl.glReadPixelsub(0, 0, WIDTH, HEIGHT, gl.GL_RGB, gl.GL_UNSIGNED_BYTE)\n",
        "img = np.frombuffer(img_buf,np.uint8).reshape(HEIGHT, WIDTH, 3)[::-1]\n",
        "display(Image.fromarray(img,'RGB'))"
      ],
      "metadata": {
        "id": "0nhXzeOKxRfy",
        "colab": {
          "base_uri": "https://localhost:8080/",
          "height": 1000
        },
        "outputId": "91ec43ec-2873-4e90-ad08-2fab6ab94fd3"
      },
      "execution_count": null,
      "outputs": [
        {
          "output_type": "display_data",
          "data": {
            "text/plain": [
              "<PIL.Image.Image image mode=RGB size=1000x1000 at 0x7FDD8F450E20>"
            ],
            "image/png": "[encoded data removed]"
          },
          "metadata": {}
        }
      ]
    },
    {
      "cell_type": "code",
      "source": [
        "gl.glClear(gl.GL_COLOR_BUFFER_BIT)\n",
        "gl.glPointSize(5)\n",
        "\n",
        "#sky\n",
        "gl.glColor3f(0.82,0.96,1.00)\n",
        "\n",
        "for i in range(-500,500,1):\n",
        "  draw_Lines(i,500,i,-500)\n",
        "\n",
        "#sun\n",
        "gl.glColor3f(1.0,0,0)\n",
        "gl.glPointSize(5) #size of point\n",
        "sun_3 = transformation(circle, scale(0.5), translation(0,0.2))\n",
        "gl.glBegin(gl.GL_POINTS)\n",
        "for a,b in sun_3:\n",
        "  gl.glVertex2f(a,b)\n",
        "gl.glEnd()\n",
        "\n",
        "#land space\n",
        "gl.glColor3f(0.84,0.63,0.31)\n",
        "for i in range(-500,501,1):\n",
        "  draw_Lines(i,100,i,-500)\n",
        "\n",
        "#house\n",
        "gl.glColor3f(.5,.3,.7)\n",
        "draw_House()\n",
        "\n",
        "#Plot of land\n",
        "gl.glColor3f(0.84,1,0.33)\n",
        "for i in range(-350,0,1):\n",
        "  draw_Lines(i,0,i-110,-270)\n",
        "for i in range(250,-110,-1):\n",
        "  draw_Lines(0,0,i-110,-270)\n",
        "\n",
        "\n",
        "#road\n",
        "road()\n",
        "\n",
        "\n",
        "i=0\n",
        "for a,b in spots_1:\n",
        "  if i<3:\n",
        "    if water[i] == \"0\":\n",
        "        #small plant\n",
        "        small_plant(a,b,1)\n",
        "    else:\n",
        "        #tree\n",
        "        gl.glColor3f(0.0+0.05*i,0.5+0.05*i,0.0)\n",
        "        gl.glBegin(gl.GL_QUADS)\n",
        "        big_tree_1 = transformation(big_tree, scale(0.9), translation(a+0.05,b+0.05))\n",
        "        for v,t in big_tree_1:\n",
        "            gl.glVertex2f(v,t)\n",
        "        gl.glEnd()\n",
        "        gl.glColor3f(0.55,0.27,0.07)\n",
        "        gl.glBegin(gl.GL_QUADS)\n",
        "        trunk_1 = transformation(trunk, scale(0.9), translation(a+0.05,b+0.05))\n",
        "        for a,b in trunk_1:\n",
        "            gl.glVertex2f(a,b)\n",
        "        gl.glEnd()\n",
        "  else:\n",
        "    if water[i] == \"0\":\n",
        "        #small plant\n",
        "        small_plant(a,b,1.2)\n",
        "    else:\n",
        "        #tree\n",
        "        gl.glColor3f(0.0+0.05*i,0.5+0.05*i,0.0)\n",
        "        gl.glBegin(gl.GL_QUADS)\n",
        "        big_tree_1 = transformation(big_tree, scale(1.1), translation(a+0.05,b+0.05))\n",
        "        for v,t in big_tree_1:\n",
        "            gl.glVertex2f(v,t)\n",
        "        gl.glEnd()\n",
        "        gl.glColor3f(0.55,0.27,0.07)\n",
        "        gl.glBegin(gl.GL_QUADS)\n",
        "        trunk_1 = transformation(trunk, scale(1.1), translation(a+0.05,b+0.05))\n",
        "        for a,b in trunk_1:\n",
        "            gl.glVertex2f(a,b)\n",
        "        gl.glEnd()\n",
        "  i += 1\n",
        "\n",
        "\n"
      ],
      "metadata": {
        "id": "su7VM80_l4En"
      },
      "execution_count": null,
      "outputs": []
    },
    {
      "cell_type": "code",
      "source": [
        "from IPython.display import display\n",
        "from PIL import Image\n",
        "\n",
        "img_buf = gl.glReadPixelsub(0, 0, WIDTH, HEIGHT, gl.GL_RGB, gl.GL_UNSIGNED_BYTE)\n",
        "img = np.frombuffer(img_buf,np.uint8).reshape(HEIGHT, WIDTH, 3)[::-1]\n",
        "display(Image.fromarray(img,'RGB'))"
      ],
      "metadata": {
        "id": "Qm5y9h3FnGMe",
        "colab": {
          "base_uri": "https://localhost:8080/",
          "height": 1000
        },
        "outputId": "e8d566ca-9a90-4707-8b78-0406d280a76e"
      },
      "execution_count": null,
      "outputs": [
        {
          "output_type": "display_data",
          "data": {
            "text/plain": [
              "<PIL.Image.Image image mode=RGB size=1000x1000 at 0x7FDD84AABFD0>"
            ],
            "image/png": "[encoded data removed]"
          },
          "metadata": {}
        }
      ]
    }
  ]
}